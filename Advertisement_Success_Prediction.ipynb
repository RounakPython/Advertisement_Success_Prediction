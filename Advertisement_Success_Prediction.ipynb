{
 "cells": [
  {
   "cell_type": "markdown",
   "metadata": {},
   "source": [
    "<font color=\"blue\" size=\"6\" style=\"font-family:sans-serif\">Advertisement Success Prediction</font>"
   ]
  },
  {
   "cell_type": "markdown",
   "metadata": {},
   "source": [
    "# Introduction"
   ]
  },
  {
   "cell_type": "markdown",
   "metadata": {},
   "source": [
    "## Business Overview"
   ]
  },
  {
   "cell_type": "markdown",
   "metadata": {},
   "source": [
    "- <p>When one starts a business or is running a business, one needs to make people aware of the fact. Promotion is important for any type of business to let others know about the business.</p>\n",
    "- <p>Advertising is important for every aspect of a business. It plays an imperative role for both manufacturers and consumers. Advertising is important for the business on the whole as it lets the business gain more customers, thereby increasing business turnaround.</p>"
   ]
  },
  {
   "cell_type": "markdown",
   "metadata": {},
   "source": [
    "## Problem Statement"
   ]
  },
  {
   "cell_type": "markdown",
   "metadata": {},
   "source": [
    "- <b>Building a machine learning model to predict whether an advertisement buy will lead to a netgain to the business.</b>"
   ]
  },
  {
   "cell_type": "markdown",
   "metadata": {},
   "source": [
    "## Stakeholder"
   ]
  },
  {
   "cell_type": "markdown",
   "metadata": {},
   "source": [
    "- <b>Head of The Marketing Department</b>\n",
    "- Head of Advertising Firm\n",
    "- Manager of Regulatory Bodies"
   ]
  },
  {
   "cell_type": "markdown",
   "metadata": {},
   "source": [
    "## Data Science Metric"
   ]
  },
  {
   "cell_type": "markdown",
   "metadata": {},
   "source": [
    "- <b>F1 Score</b>"
   ]
  },
  {
   "cell_type": "markdown",
   "metadata": {},
   "source": [
    "# Loading Libraries"
   ]
  },
  {
   "cell_type": "code",
   "execution_count": 1,
   "metadata": {},
   "outputs": [
    {
     "name": "stdout",
     "output_type": "stream",
     "text": [
      "Setup Completed!\n"
     ]
    }
   ],
   "source": [
    "import pandas as pd\n",
    "import numpy as np\n",
    "import os \n",
    "import matplotlib.pyplot as plt\n",
    "import seaborn as sns\n",
    "import warnings\n",
    "warnings.filterwarnings('ignore')\n",
    "from sklearn.ensemble import RandomForestClassifier,ExtraTreesClassifier\n",
    "from sklearn.model_selection import train_test_split\n",
    "from sklearn.linear_model import LogisticRegression\n",
    "from sklearn.preprocessing import LabelBinarizer, StandardScaler, MinMaxScaler, OneHotEncoder\n",
    "from sklearn.metrics import confusion_matrix, recall_score, precision_score, accuracy_score, roc_auc_score\n",
    "from sklearn.metrics import plot_confusion_matrix, f1_score\n",
    "from sklearn.model_selection import cross_val_score, StratifiedKFold\n",
    "from sklearn.svm import SVC\n",
    "from sklearn.ensemble import GradientBoostingClassifier \n",
    "from xgboost import XGBClassifier\n",
    "from imblearn.over_sampling import SMOTE\n",
    "from imblearn.combine import SMOTETomek\n",
    "from sklearn.tree import DecisionTreeClassifier\n",
    "from sklearn.feature_selection import RFE,SelectKBest\n",
    "from sklearn.metrics import confusion_matrix,classification_report\n",
    "from sklearn.feature_selection import f_classif, chi2\n",
    "\n",
    "print('Setup Completed!')"
   ]
  },
  {
   "cell_type": "code",
   "execution_count": 2,
   "metadata": {},
   "outputs": [
    {
     "data": {
      "image/png": "[encoded data removed]",
      "text/plain": [
       "<Figure size 432x72 with 1 Axes>"
      ]
     },
     "metadata": {},
     "output_type": "display_data"
    },
    {
     "data": {
      "image/png": "[encoded data removed]",
      "text/plain": [
       "<Figure size 720x72 with 1 Axes>"
      ]
     },
     "metadata": {},
     "output_type": "display_data"
    }
   ],
   "source": [
    "from palettable.colorbrewer.diverging import *\n",
    "\n",
    "sns.set(style='whitegrid', palette=\"Spectral_r\")\n",
    "cb_pal = sns.cubehelix_palette(10, start=0.5, rot=-.75)\n",
    "cpal = sns.color_palette(\"Reds\")\n",
    "sns.palplot(cpal)\n",
    "sns.palplot(cb_pal)"
   ]
  },
  {
   "cell_type": "code",
   "execution_count": 3,
   "metadata": {},
   "outputs": [],
   "source": [
    "# Loading train and test data\n",
    "\n",
    "df_train = pd.read_csv('train.csv')\n",
    "df_test = pd.read_csv('test.csv')"
   ]
  },
  {
   "cell_type": "code",
   "execution_count": 4,
   "metadata": {},
   "outputs": [
    {
     "data": {
      "text/html": [
       "<div>\n",
       "<style scoped>\n",
       "    .dataframe tbody tr th:only-of-type {\n",
       "        vertical-align: middle;\n",
       "    }\n",
       "\n",
       "    .dataframe tbody tr th {\n",
       "        vertical-align: top;\n",
       "    }\n",
       "\n",
       "    .dataframe thead th {\n",
       "        text-align: right;\n",
       "    }\n",
       "</style>\n",
       "<table border=\"1\" class=\"dataframe\">\n",
       "  <thead>\n",
       "    <tr style=\"text-align: right;\">\n",
       "      <th></th>\n",
       "      <th>0</th>\n",
       "      <th>1</th>\n",
       "      <th>2</th>\n",
       "      <th>3</th>\n",
       "      <th>4</th>\n",
       "    </tr>\n",
       "  </thead>\n",
       "  <tbody>\n",
       "    <tr>\n",
       "      <th>UserID</th>\n",
       "      <td>UI_9185</td>\n",
       "      <td>UI_449</td>\n",
       "      <td>UI_9014</td>\n",
       "      <td>UI_14987</td>\n",
       "      <td>UI_25532</td>\n",
       "    </tr>\n",
       "    <tr>\n",
       "      <th>realtionship_status</th>\n",
       "      <td>Married-civ-spouse</td>\n",
       "      <td>Never-married</td>\n",
       "      <td>Never-married</td>\n",
       "      <td>Married-civ-spouse</td>\n",
       "      <td>Married-civ-spouse</td>\n",
       "    </tr>\n",
       "    <tr>\n",
       "      <th>industry</th>\n",
       "      <td>Pharma</td>\n",
       "      <td>Political</td>\n",
       "      <td>Auto</td>\n",
       "      <td>Pharma</td>\n",
       "      <td>Other</td>\n",
       "    </tr>\n",
       "    <tr>\n",
       "      <th>genre</th>\n",
       "      <td>Comedy</td>\n",
       "      <td>Comedy</td>\n",
       "      <td>Comedy</td>\n",
       "      <td>Infomercial</td>\n",
       "      <td>Comedy</td>\n",
       "    </tr>\n",
       "    <tr>\n",
       "      <th>targeted_sex</th>\n",
       "      <td>Male</td>\n",
       "      <td>Male</td>\n",
       "      <td>Male</td>\n",
       "      <td>Male</td>\n",
       "      <td>Female</td>\n",
       "    </tr>\n",
       "    <tr>\n",
       "      <th>average_runtime(minutes_per_week)</th>\n",
       "      <td>40</td>\n",
       "      <td>35</td>\n",
       "      <td>40</td>\n",
       "      <td>40</td>\n",
       "      <td>50</td>\n",
       "    </tr>\n",
       "    <tr>\n",
       "      <th>airtime</th>\n",
       "      <td>Daytime</td>\n",
       "      <td>Morning</td>\n",
       "      <td>Morning</td>\n",
       "      <td>Primetime</td>\n",
       "      <td>Primetime</td>\n",
       "    </tr>\n",
       "    <tr>\n",
       "      <th>airlocation</th>\n",
       "      <td>United-States</td>\n",
       "      <td>International</td>\n",
       "      <td>United-States</td>\n",
       "      <td>United-States</td>\n",
       "      <td>United-States</td>\n",
       "    </tr>\n",
       "    <tr>\n",
       "      <th>ratings</th>\n",
       "      <td>0.0274647</td>\n",
       "      <td>0.0274647</td>\n",
       "      <td>0.0274647</td>\n",
       "      <td>0.0274647</td>\n",
       "      <td>0.0274647</td>\n",
       "    </tr>\n",
       "    <tr>\n",
       "      <th>expensive</th>\n",
       "      <td>Medium</td>\n",
       "      <td>Low</td>\n",
       "      <td>Low</td>\n",
       "      <td>Low</td>\n",
       "      <td>Low</td>\n",
       "    </tr>\n",
       "    <tr>\n",
       "      <th>money_back_guarantee</th>\n",
       "      <td>No</td>\n",
       "      <td>No</td>\n",
       "      <td>No</td>\n",
       "      <td>Yes</td>\n",
       "      <td>Yes</td>\n",
       "    </tr>\n",
       "    <tr>\n",
       "      <th>netgain</th>\n",
       "      <td>0</td>\n",
       "      <td>0</td>\n",
       "      <td>0</td>\n",
       "      <td>0</td>\n",
       "      <td>1</td>\n",
       "    </tr>\n",
       "  </tbody>\n",
       "</table>\n",
       "</div>"
      ],
      "text/plain": [
       "                                                    0              1  \\\n",
       "UserID                                        UI_9185         UI_449   \n",
       "realtionship_status                Married-civ-spouse  Never-married   \n",
       "industry                                       Pharma      Political   \n",
       "genre                                          Comedy         Comedy   \n",
       "targeted_sex                                     Male           Male   \n",
       "average_runtime(minutes_per_week)                  40             35   \n",
       "airtime                                       Daytime        Morning   \n",
       "airlocation                             United-States  International   \n",
       "ratings                                     0.0274647      0.0274647   \n",
       "expensive                                      Medium            Low   \n",
       "money_back_guarantee                               No             No   \n",
       "netgain                                             0              0   \n",
       "\n",
       "                                               2                   3  \\\n",
       "UserID                                   UI_9014            UI_14987   \n",
       "realtionship_status                Never-married  Married-civ-spouse   \n",
       "industry                                    Auto              Pharma   \n",
       "genre                                     Comedy         Infomercial   \n",
       "targeted_sex                                Male                Male   \n",
       "average_runtime(minutes_per_week)             40                  40   \n",
       "airtime                                  Morning           Primetime   \n",
       "airlocation                        United-States       United-States   \n",
       "ratings                                0.0274647           0.0274647   \n",
       "expensive                                    Low                 Low   \n",
       "money_back_guarantee                          No                 Yes   \n",
       "netgain                                        0                   0   \n",
       "\n",
       "                                                    4  \n",
       "UserID                                       UI_25532  \n",
       "realtionship_status                Married-civ-spouse  \n",
       "industry                                        Other  \n",
       "genre                                          Comedy  \n",
       "targeted_sex                                   Female  \n",
       "average_runtime(minutes_per_week)                  50  \n",
       "airtime                                     Primetime  \n",
       "airlocation                             United-States  \n",
       "ratings                                     0.0274647  \n",
       "expensive                                         Low  \n",
       "money_back_guarantee                              Yes  \n",
       "netgain                                             1  "
      ]
     },
     "execution_count": 4,
     "metadata": {},
     "output_type": "execute_result"
    }
   ],
   "source": [
    "# Display train data\n",
    "\n",
    "df_train.head().T"
   ]
  },
  {
   "cell_type": "markdown",
   "metadata": {},
   "source": [
    "# Data Preprocessing"
   ]
  },
  {
   "cell_type": "markdown",
   "metadata": {},
   "source": [
    "## Null/Missing value analysis"
   ]
  },
  {
   "cell_type": "code",
   "execution_count": 5,
   "metadata": {},
   "outputs": [
    {
     "data": {
      "text/plain": [
       "UserID                               0\n",
       "realtionship_status                  0\n",
       "industry                             0\n",
       "genre                                0\n",
       "targeted_sex                         0\n",
       "average_runtime(minutes_per_week)    0\n",
       "airtime                              0\n",
       "airlocation                          0\n",
       "ratings                              0\n",
       "expensive                            0\n",
       "money_back_guarantee                 0\n",
       "netgain                              0\n",
       "dtype: int64"
      ]
     },
     "execution_count": 5,
     "metadata": {},
     "output_type": "execute_result"
    }
   ],
   "source": [
    "# Check null values in data\n",
    "df_train.isnull().sum()"
   ]
  },
  {
   "cell_type": "markdown",
   "metadata": {},
   "source": [
    "<b>Insight:</b> <br>\n",
    "- No null value present in Data. No need to Handle null/missing value.\n"
   ]
  },
  {
   "cell_type": "markdown",
   "metadata": {},
   "source": [
    "## Categorical Vs Numerical feature"
   ]
  },
  {
   "cell_type": "code",
   "execution_count": 6,
   "metadata": {},
   "outputs": [],
   "source": [
    "cat_col = df_train.select_dtypes(exclude=np.number).columns\n",
    "num_col = df_train.select_dtypes(include=np.number).columns"
   ]
  },
  {
   "cell_type": "code",
   "execution_count": 7,
   "metadata": {},
   "outputs": [
    {
     "name": "stdout",
     "output_type": "stream",
     "text": [
      "Total Categorical Coulmns :  9 \n",
      "\n",
      "Categorical columns : ['UserID', 'realtionship_status', 'industry', 'genre', 'targeted_sex', 'airtime', 'airlocation', 'expensive', 'money_back_guarantee'] \n",
      "\n",
      "Total Numerical Coulmns :  3 \n",
      "\n",
      "Numerical columns : ['average_runtime(minutes_per_week)', 'ratings', 'netgain'] \n",
      "\n"
     ]
    }
   ],
   "source": [
    "# Display categorical and numerical columns\n",
    "print('Total Categorical Coulmns : ', len(cat_col), \"\\n\")\n",
    "print(\"Categorical columns :\", list(cat_col), \"\\n\")\n",
    "print('Total Numerical Coulmns : ', len(num_col), \"\\n\")\n",
    "print(\"Numerical columns :\", list(num_col), \"\\n\")"
   ]
  },
  {
   "cell_type": "markdown",
   "metadata": {},
   "source": [
    "## Data description"
   ]
  },
  {
   "cell_type": "code",
   "execution_count": 88,
   "metadata": {},
   "outputs": [
    {
     "data": {
      "text/html": [
       "<div>\n",
       "<style scoped>\n",
       "    .dataframe tbody tr th:only-of-type {\n",
       "        vertical-align: middle;\n",
       "    }\n",
       "\n",
       "    .dataframe tbody tr th {\n",
       "        vertical-align: top;\n",
       "    }\n",
       "\n",
       "    .dataframe thead th {\n",
       "        text-align: right;\n",
       "    }\n",
       "</style>\n",
       "<table border=\"1\" class=\"dataframe\">\n",
       "  <thead>\n",
       "    <tr style=\"text-align: right;\">\n",
       "      <th></th>\n",
       "      <th>average_runtime(minutes_per_week)</th>\n",
       "      <th>ratings</th>\n",
       "      <th>netgain</th>\n",
       "    </tr>\n",
       "  </thead>\n",
       "  <tbody>\n",
       "    <tr>\n",
       "      <th>count</th>\n",
       "      <td>19536.000000</td>\n",
       "      <td>19536.000000</td>\n",
       "      <td>19536.000000</td>\n",
       "    </tr>\n",
       "    <tr>\n",
       "      <th>mean</th>\n",
       "      <td>40.375665</td>\n",
       "      <td>0.038826</td>\n",
       "      <td>0.238022</td>\n",
       "    </tr>\n",
       "    <tr>\n",
       "      <th>std</th>\n",
       "      <td>12.483166</td>\n",
       "      <td>0.075971</td>\n",
       "      <td>0.425884</td>\n",
       "    </tr>\n",
       "    <tr>\n",
       "      <th>min</th>\n",
       "      <td>1.000000</td>\n",
       "      <td>0.000000</td>\n",
       "      <td>0.000000</td>\n",
       "    </tr>\n",
       "    <tr>\n",
       "      <th>25%</th>\n",
       "      <td>40.000000</td>\n",
       "      <td>0.027465</td>\n",
       "      <td>0.000000</td>\n",
       "    </tr>\n",
       "    <tr>\n",
       "      <th>50%</th>\n",
       "      <td>40.000000</td>\n",
       "      <td>0.027465</td>\n",
       "      <td>0.000000</td>\n",
       "    </tr>\n",
       "    <tr>\n",
       "      <th>75%</th>\n",
       "      <td>45.000000</td>\n",
       "      <td>0.027465</td>\n",
       "      <td>0.000000</td>\n",
       "    </tr>\n",
       "    <tr>\n",
       "      <th>max</th>\n",
       "      <td>99.000000</td>\n",
       "      <td>1.000000</td>\n",
       "      <td>1.000000</td>\n",
       "    </tr>\n",
       "  </tbody>\n",
       "</table>\n",
       "</div>"
      ],
      "text/plain": [
       "       average_runtime(minutes_per_week)       ratings       netgain\n",
       "count                       19536.000000  19536.000000  19536.000000\n",
       "mean                           40.375665      0.038826      0.238022\n",
       "std                            12.483166      0.075971      0.425884\n",
       "min                             1.000000      0.000000      0.000000\n",
       "25%                            40.000000      0.027465      0.000000\n",
       "50%                            40.000000      0.027465      0.000000\n",
       "75%                            45.000000      0.027465      0.000000\n",
       "max                            99.000000      1.000000      1.000000"
      ]
     },
     "execution_count": 88,
     "metadata": {},
     "output_type": "execute_result"
    }
   ],
   "source": [
    "df_train.describe()"
   ]
  },
  {
   "cell_type": "markdown",
   "metadata": {},
   "source": [
    "## Data distribution"
   ]
  },
  {
   "cell_type": "code",
   "execution_count": 9,
   "metadata": {},
   "outputs": [
    {
     "data": {
      "image/png": "[encoded data removed]",
      "text/plain": [
       "<Figure size 720x360 with 2 Axes>"
      ]
     },
     "metadata": {},
     "output_type": "display_data"
    }
   ],
   "source": [
    "# Visulazing the distibution of the data for every feature\n",
    "df_train[['average_runtime(minutes_per_week)', 'ratings']].hist(edgecolor='black', linewidth=1.2, figsize=(10, 5));"
   ]
  },
  {
   "cell_type": "markdown",
   "metadata": {},
   "source": [
    "## Target column distribution"
   ]
  },
  {
   "cell_type": "code",
   "execution_count": 10,
   "metadata": {},
   "outputs": [
    {
     "data": {
      "image/png": "[encoded data removed]",
      "text/plain": [
       "<Figure size 432x288 with 1 Axes>"
      ]
     },
     "metadata": {},
     "output_type": "display_data"
    }
   ],
   "source": [
    "# Check whether Data is biased or not\n",
    "\n",
    "sns.countplot('netgain', data=df_train)\n",
    "plt.show()"
   ]
  },
  {
   "cell_type": "code",
   "execution_count": 78,
   "metadata": {},
   "outputs": [
    {
     "data": {
      "text/plain": [
       "0    14886\n",
       "1     4650\n",
       "Name: netgain, dtype: int64"
      ]
     },
     "execution_count": 78,
     "metadata": {},
     "output_type": "execute_result"
    }
   ],
   "source": [
    "df_train['netgain'].value_counts()"
   ]
  },
  {
   "cell_type": "markdown",
   "metadata": {},
   "source": [
    "<b>Insight:</b> <br>\n",
    "- Data is biased. Hence we can say that most number of the advertisements doesn't add value to net gain."
   ]
  },
  {
   "cell_type": "markdown",
   "metadata": {},
   "source": [
    "# Explanatory Data Analysis"
   ]
  },
  {
   "cell_type": "code",
   "execution_count": 8,
   "metadata": {},
   "outputs": [],
   "source": [
    "# Drop UserID column from dataset\n",
    "df_eda = df_train.drop(['UserID'], axis=1)\n",
    "df_test_eda = df_test.drop(['UserID'], axis=1)"
   ]
  },
  {
   "cell_type": "code",
   "execution_count": 9,
   "metadata": {},
   "outputs": [
    {
     "name": "stdout",
     "output_type": "stream",
     "text": [
      "Number of unique values for column realtionship_status 7\n",
      "Unique values of column realtionship_status ['Married-civ-spouse' 'Never-married' 'Divorced' 'Separated' 'Widowed'\n",
      " 'Married-spouse-absent' 'Married-AF-spouse'] \n",
      "\n",
      "Number of unique values for column industry 6\n",
      "Unique values of column industry ['Pharma' 'Political' 'Auto' 'Other' 'Entertainment' 'ClassAction'] \n",
      "\n",
      "Number of unique values for column genre 5\n",
      "Unique values of column genre ['Comedy' 'Infomercial' 'Drama' 'Direct' 'Other'] \n",
      "\n",
      "Number of unique values for column targeted_sex 2\n",
      "Unique values of column targeted_sex ['Male' 'Female'] \n",
      "\n",
      "Number of unique values for column airtime 3\n",
      "Unique values of column airtime ['Daytime' 'Morning' 'Primetime'] \n",
      "\n",
      "Number of unique values for column airlocation 42\n",
      "Unique values of column airlocation ['United-States' 'International' 'Mexico' 'Hong' 'Cuba' 'Germany' 'India'\n",
      " 'Iran' 'Dominican-Republic' 'Philippines' 'Japan' 'Italy' 'South'\n",
      " 'Poland' 'Vietnam' 'Columbia' 'Outlying-US(Guam-USVI-etc)' 'Puerto-Rico'\n",
      " 'Hungary' 'El-Salvador' 'England' 'Taiwan' 'Canada' 'France' 'Guatemala'\n",
      " 'Thailand' 'China' 'Jamaica' 'Portugal' 'Haiti' 'Yugoslavia' 'Nicaragua'\n",
      " 'Honduras' 'Trinadad&Tobago' 'Ireland' 'Laos' 'Cambodia' 'Ecuador' 'Peru'\n",
      " 'Scotland' 'Greece' 'Holand-Netherlands'] \n",
      "\n",
      "Number of unique values for column expensive 3\n",
      "Unique values of column expensive ['Medium' 'Low' 'High'] \n",
      "\n",
      "Number of unique values for column money_back_guarantee 2\n",
      "Unique values of column money_back_guarantee ['No' 'Yes'] \n",
      "\n"
     ]
    }
   ],
   "source": [
    "# Check all the unique values from each of the columns\n",
    "columns = df_eda.select_dtypes(exclude=np.number).columns\n",
    "for col in columns:\n",
    "    print('Number of unique values for column', col, len(df_eda[col].unique()))\n",
    "    print('Unique values of column', col, df_eda[col].unique(), '\\n')"
   ]
  },
  {
   "cell_type": "markdown",
   "metadata": {},
   "source": [
    "## What is the Targeted_sex relation with netgain?"
   ]
  },
  {
   "cell_type": "code",
   "execution_count": 13,
   "metadata": {},
   "outputs": [
    {
     "data": {
      "image/png": "[encoded data removed]",
      "text/plain": [
       "<Figure size 432x432 with 1 Axes>"
      ]
     },
     "metadata": {},
     "output_type": "display_data"
    }
   ],
   "source": [
    "plt.figure(figsize=(6,6))\n",
    "sns.countplot('targeted_sex', data=df_eda, hue='netgain')\n",
    "plt.title('Targeted_sex wise netgain count plot')\n",
    "plt.show()"
   ]
  },
  {
   "cell_type": "markdown",
   "metadata": {},
   "source": [
    "<b>Insight:</b> <br>\n",
    "- Male add more value to net gain compare to female."
   ]
  },
  {
   "cell_type": "markdown",
   "metadata": {},
   "source": [
    "## Which genre is more preferable in advertisement?"
   ]
  },
  {
   "cell_type": "code",
   "execution_count": 14,
   "metadata": {
    "scrolled": false
   },
   "outputs": [
    {
     "data": {
      "image/png": "[encoded data removed]",
      "text/plain": [
       "<Figure size 576x432 with 1 Axes>"
      ]
     },
     "metadata": {},
     "output_type": "display_data"
    }
   ],
   "source": [
    "plt.figure(figsize=(8,6))\n",
    "sns.countplot('genre', data=df_eda)\n",
    "plt.title('Top genre advertisement count')\n",
    "plt.show()"
   ]
  },
  {
   "cell_type": "markdown",
   "metadata": {},
   "source": [
    "<b>Insight:</b> <br>\n",
    "- Comedy is the most preferable genre in advertisement."
   ]
  },
  {
   "cell_type": "markdown",
   "metadata": {},
   "source": [
    "## Which of the top industries having maximum total average runtime for Comedy genre?"
   ]
  },
  {
   "cell_type": "code",
   "execution_count": 15,
   "metadata": {},
   "outputs": [
    {
     "data": {
      "image/png": "[encoded data removed]",
      "text/plain": [
       "<Figure size 576x576 with 1 Axes>"
      ]
     },
     "metadata": {},
     "output_type": "display_data"
    }
   ],
   "source": [
    "# Industry wise total Average_runtime(minutes_per_week) for Comedy genre \n",
    "df_comedy = df_eda[df_eda['genre'] == 'Comedy']\n",
    "comedy_industry = df_comedy.groupby(['industry'])['average_runtime(minutes_per_week)'].sum().sort_values(ascending=False)\n",
    "\n",
    "comedy_industry.plot(kind='bar',figsize=(8,8))\n",
    "plt.title('Industry wise total Average_runtime(minutes_per_week) for Comedy genre')\n",
    "plt.ylabel('Total Average Runtime(minutes_per_week)')\n",
    "plt.xticks(rotation=30)\n",
    "plt.show()"
   ]
  },
  {
   "cell_type": "markdown",
   "metadata": {},
   "source": [
    "<b>Insight:</b><br>\n",
    "- Pharma industry having highest total average runtime for Comedy genre.\n",
    "- ClassAction industry having lowest total average runtime for Comedy genre."
   ]
  },
  {
   "cell_type": "markdown",
   "metadata": {},
   "source": [
    "## Which are the top 10 airlocation having highest total average runtime across all the genre?"
   ]
  },
  {
   "cell_type": "code",
   "execution_count": 76,
   "metadata": {},
   "outputs": [
    {
     "data": {
      "image/png": "[encoded data removed]",
      "text/plain": [
       "<Figure size 720x432 with 1 Axes>"
      ]
     },
     "metadata": {},
     "output_type": "display_data"
    }
   ],
   "source": [
    "air_loc = df_eda.groupby(['airlocation'])['average_runtime(minutes_per_week)'].sum().sort_values(ascending=False)[:5]\n",
    "\n",
    "air_loc.plot(kind='bar',figsize=(10,6))\n",
    "plt.title('Top 5 Air Location having Highest Total Average Runtime(minutes_per_week)')\n",
    "plt.ylabel('Average Runtime(minutes_per_week)')\n",
    "plt.xticks(rotation=30)\n",
    "plt.show()"
   ]
  },
  {
   "cell_type": "markdown",
   "metadata": {},
   "source": [
    "<b>Insight:</b><br>\n",
    "- United-States having highest total average runtime(minutes_per_week)"
   ]
  },
  {
   "cell_type": "markdown",
   "metadata": {},
   "source": [
    "## Expensive Vs Money back guarantee rate"
   ]
  },
  {
   "cell_type": "code",
   "execution_count": 17,
   "metadata": {},
   "outputs": [
    {
     "data": {
      "image/png": "[encoded data removed]",
      "text/plain": [
       "<Figure size 720x432 with 1 Axes>"
      ]
     },
     "metadata": {},
     "output_type": "display_data"
    }
   ],
   "source": [
    "# Expensive Versus Money back guarantee rate\n",
    "df_expense = pd.DataFrame(df_eda.groupby('expensive')['money_back_guarantee'].value_counts(normalize = True)*100)\n",
    "ax = df_expense.unstack().plot(kind ='bar',figsize =(10,6))\n",
    "\n",
    "for i in ax.patches:\n",
    "    w,h = i.get_width(),i.get_height()\n",
    "    x,y = i.get_xy()\n",
    "    ax.annotate(str(np.round(h,2))+ '%',(x,y+h+0.5))\n",
    "    \n",
    "plt.ylabel(\"Money Back guarantee Rate\")\n",
    "plt.title(\"Expensive Vs Money back guarantee\")\n",
    "plt.legend(['No Money Back guarantee', 'Money Back guarantee'], loc = 'upper left')\n",
    "plt.ylim(0,140)\n",
    "plt.xticks(rotation=0)\n",
    "plt.show()"
   ]
  },
  {
   "cell_type": "markdown",
   "metadata": {},
   "source": [
    "<b>Insight:</b><br>\n",
    "- High and medium expensive advertisements having low money back guarantee rate.\n",
    "- Low expensive advertisements having high money back guarantee rate."
   ]
  },
  {
   "cell_type": "markdown",
   "metadata": {},
   "source": [
    "## Top Genre having highest average ratings"
   ]
  },
  {
   "cell_type": "code",
   "execution_count": 18,
   "metadata": {},
   "outputs": [
    {
     "data": {
      "image/png": "[encoded data removed]",
      "text/plain": [
       "<Figure size 576x432 with 1 Axes>"
      ]
     },
     "metadata": {},
     "output_type": "display_data"
    }
   ],
   "source": [
    "# Top genre having highest average ratings\n",
    "plt.figure(figsize=(8,6))\n",
    "df_eda.groupby(['genre'])['ratings'].mean().sort_values(ascending=True).plot(kind='barh')\n",
    "plt.xlabel('Ratings')\n",
    "plt.title('Genre Vs Avg Ratings')\n",
    "plt.show()"
   ]
  },
  {
   "cell_type": "markdown",
   "metadata": {},
   "source": [
    "<b>Insight:</b><br>\n",
    "- Drama advertisements having highest average rating."
   ]
  },
  {
   "cell_type": "markdown",
   "metadata": {},
   "source": [
    "## Average Runtime(minutes_per_week) Vs Ratings Plot"
   ]
  },
  {
   "cell_type": "code",
   "execution_count": 19,
   "metadata": {},
   "outputs": [
    {
     "data": {
      "image/png": "[encoded data removed]",
      "text/plain": [
       "<Figure size 720x576 with 1 Axes>"
      ]
     },
     "metadata": {},
     "output_type": "display_data"
    }
   ],
   "source": [
    "# Average Runtime(minutes_per_week) Vs Ratings Plot\n",
    "plt.figure(figsize=(10,8))\n",
    "sns.scatterplot('average_runtime(minutes_per_week)', 'ratings', data=df_eda, hue='netgain')\n",
    "plt.title('Avg runtime Vs Ratings plot')\n",
    "plt.show()"
   ]
  },
  {
   "cell_type": "markdown",
   "metadata": {},
   "source": [
    "<b>Insight:</b><br>\n",
    "- Advertisements having rating equal to one, can contribute for net gain."
   ]
  },
  {
   "cell_type": "markdown",
   "metadata": {},
   "source": [
    "# Feature Engineering"
   ]
  },
  {
   "cell_type": "markdown",
   "metadata": {},
   "source": [
    "## Numerical Data"
   ]
  },
  {
   "cell_type": "markdown",
   "metadata": {},
   "source": [
    "### Handling outliers"
   ]
  },
  {
   "cell_type": "code",
   "execution_count": 20,
   "metadata": {},
   "outputs": [
    {
     "data": {
      "image/png": "[encoded data removed]",
      "text/plain": [
       "<Figure size 432x432 with 1 Axes>"
      ]
     },
     "metadata": {},
     "output_type": "display_data"
    }
   ],
   "source": [
    "#Box Plot before outlier treatment\n",
    "\n",
    "plt.figure(figsize=(6,6))\n",
    "sns.boxplot(y='average_runtime(minutes_per_week)', data=df_eda)\n",
    "plt.show()"
   ]
  },
  {
   "cell_type": "code",
   "execution_count": 21,
   "metadata": {},
   "outputs": [
    {
     "data": {
      "image/png": "[encoded data removed]",
      "text/plain": [
       "<Figure size 432x432 with 1 Axes>"
      ]
     },
     "metadata": {},
     "output_type": "display_data"
    }
   ],
   "source": [
    "plt.figure(figsize=(6,6))\n",
    "sns.boxplot(y='ratings', data=df_eda)\n",
    "plt.show()"
   ]
  },
  {
   "cell_type": "markdown",
   "metadata": {},
   "source": [
    "<b>Insight:</b></br>\n",
    "- Average_runtime(minutes_per_week) feature having normal highest values.\n",
    "- Ratings feature with value is equal to 1 is highly contributing in net gain."
   ]
  },
  {
   "cell_type": "markdown",
   "metadata": {},
   "source": [
    "## Categorical Data"
   ]
  },
  {
   "cell_type": "markdown",
   "metadata": {},
   "source": [
    "### One Hot Encoding techniques"
   ]
  },
  {
   "cell_type": "code",
   "execution_count": 91,
   "metadata": {},
   "outputs": [
    {
     "name": "stdout",
     "output_type": "stream",
     "text": [
      "Number of unique values for column realtionship_status 7\n",
      "Unique values of column realtionship_status ['Married-civ-spouse' 'Never-married' 'Divorced' 'Separated' 'Widowed'\n",
      " 'Married-spouse-absent' 'Married-AF-spouse'] \n",
      "\n",
      "Number of unique values for column industry 6\n",
      "Unique values of column industry ['Pharma' 'Political' 'Auto' 'Other' 'Entertainment' 'ClassAction'] \n",
      "\n",
      "Number of unique values for column genre 5\n",
      "Unique values of column genre ['Comedy' 'Infomercial' 'Drama' 'Direct' 'Other'] \n",
      "\n",
      "Number of unique values for column targeted_sex 2\n",
      "Unique values of column targeted_sex ['Male' 'Female'] \n",
      "\n",
      "Number of unique values for column airtime 3\n",
      "Unique values of column airtime ['Daytime' 'Morning' 'Primetime'] \n",
      "\n",
      "Number of unique values for column airlocation 42\n",
      "Unique values of column airlocation ['United-States' 'International' 'Mexico' 'Hong' 'Cuba' 'Germany' 'India'\n",
      " 'Iran' 'Dominican-Republic' 'Philippines' 'Japan' 'Italy' 'South'\n",
      " 'Poland' 'Vietnam' 'Columbia' 'Outlying-US(Guam-USVI-etc)' 'Puerto-Rico'\n",
      " 'Hungary' 'El-Salvador' 'England' 'Taiwan' 'Canada' 'France' 'Guatemala'\n",
      " 'Thailand' 'China' 'Jamaica' 'Portugal' 'Haiti' 'Yugoslavia' 'Nicaragua'\n",
      " 'Honduras' 'Trinadad&Tobago' 'Ireland' 'Laos' 'Cambodia' 'Ecuador' 'Peru'\n",
      " 'Scotland' 'Greece' 'Holand-Netherlands'] \n",
      "\n",
      "Number of unique values for column expensive 3\n",
      "Unique values of column expensive ['Medium' 'Low' 'High'] \n",
      "\n",
      "Number of unique values for column money_back_guarantee 2\n",
      "Unique values of column money_back_guarantee ['No' 'Yes'] \n",
      "\n"
     ]
    }
   ],
   "source": [
    "for col in columns:\n",
    "    print('Number of unique values for column', col, len(df_eda[col].unique()))\n",
    "    print('Unique values of column', col, df_eda[col].unique(), '\\n')"
   ]
  },
  {
   "cell_type": "code",
   "execution_count": 10,
   "metadata": {},
   "outputs": [],
   "source": [
    "# One hot encoding on selected columns\n",
    "one_hot_col = ['targeted_sex', 'airtime', 'expensive', 'money_back_guarantee']"
   ]
  },
  {
   "cell_type": "code",
   "execution_count": 11,
   "metadata": {},
   "outputs": [
    {
     "data": {
      "text/html": [
       "<div>\n",
       "<style scoped>\n",
       "    .dataframe tbody tr th:only-of-type {\n",
       "        vertical-align: middle;\n",
       "    }\n",
       "\n",
       "    .dataframe tbody tr th {\n",
       "        vertical-align: top;\n",
       "    }\n",
       "\n",
       "    .dataframe thead th {\n",
       "        text-align: right;\n",
       "    }\n",
       "</style>\n",
       "<table border=\"1\" class=\"dataframe\">\n",
       "  <thead>\n",
       "    <tr style=\"text-align: right;\">\n",
       "      <th></th>\n",
       "      <th>realtionship_status</th>\n",
       "      <th>industry</th>\n",
       "      <th>genre</th>\n",
       "      <th>targeted_sex</th>\n",
       "      <th>average_runtime(minutes_per_week)</th>\n",
       "      <th>airtime</th>\n",
       "      <th>airlocation</th>\n",
       "      <th>ratings</th>\n",
       "      <th>expensive</th>\n",
       "      <th>money_back_guarantee</th>\n",
       "      <th>netgain</th>\n",
       "      <th>targeted_sex_Male</th>\n",
       "      <th>airtime_Morning</th>\n",
       "      <th>airtime_Primetime</th>\n",
       "      <th>expensive_Low</th>\n",
       "      <th>expensive_Medium</th>\n",
       "      <th>money_back_guarantee_Yes</th>\n",
       "    </tr>\n",
       "  </thead>\n",
       "  <tbody>\n",
       "    <tr>\n",
       "      <th>0</th>\n",
       "      <td>Married-civ-spouse</td>\n",
       "      <td>Pharma</td>\n",
       "      <td>Comedy</td>\n",
       "      <td>Male</td>\n",
       "      <td>40</td>\n",
       "      <td>Daytime</td>\n",
       "      <td>United-States</td>\n",
       "      <td>0.027465</td>\n",
       "      <td>Medium</td>\n",
       "      <td>No</td>\n",
       "      <td>0</td>\n",
       "      <td>1</td>\n",
       "      <td>0</td>\n",
       "      <td>0</td>\n",
       "      <td>0</td>\n",
       "      <td>1</td>\n",
       "      <td>0</td>\n",
       "    </tr>\n",
       "    <tr>\n",
       "      <th>1</th>\n",
       "      <td>Never-married</td>\n",
       "      <td>Political</td>\n",
       "      <td>Comedy</td>\n",
       "      <td>Male</td>\n",
       "      <td>35</td>\n",
       "      <td>Morning</td>\n",
       "      <td>International</td>\n",
       "      <td>0.027465</td>\n",
       "      <td>Low</td>\n",
       "      <td>No</td>\n",
       "      <td>0</td>\n",
       "      <td>1</td>\n",
       "      <td>1</td>\n",
       "      <td>0</td>\n",
       "      <td>1</td>\n",
       "      <td>0</td>\n",
       "      <td>0</td>\n",
       "    </tr>\n",
       "  </tbody>\n",
       "</table>\n",
       "</div>"
      ],
      "text/plain": [
       "  realtionship_status   industry   genre targeted_sex  \\\n",
       "0  Married-civ-spouse     Pharma  Comedy         Male   \n",
       "1       Never-married  Political  Comedy         Male   \n",
       "\n",
       "   average_runtime(minutes_per_week)  airtime    airlocation   ratings  \\\n",
       "0                                 40  Daytime  United-States  0.027465   \n",
       "1                                 35  Morning  International  0.027465   \n",
       "\n",
       "  expensive money_back_guarantee  netgain  targeted_sex_Male  airtime_Morning  \\\n",
       "0    Medium                   No        0                  1                0   \n",
       "1       Low                   No        0                  1                1   \n",
       "\n",
       "   airtime_Primetime  expensive_Low  expensive_Medium  \\\n",
       "0                  0              0                 1   \n",
       "1                  0              1                 0   \n",
       "\n",
       "   money_back_guarantee_Yes  \n",
       "0                         0  \n",
       "1                         0  "
      ]
     },
     "execution_count": 11,
     "metadata": {},
     "output_type": "execute_result"
    }
   ],
   "source": [
    "X_cat = df_train[one_hot_col]\n",
    "X_cat.head(2)\n",
    "X_cat_one_hot_train = pd.get_dummies(X_cat, drop_first=True)\n",
    "\n",
    "#Merge With original df\n",
    "cat_proc_columns = X_cat_one_hot_train.columns\n",
    "for col in cat_proc_columns:\n",
    "    df_eda[col] = X_cat_one_hot_train[col] \n",
    "    \n",
    "df_eda.head(2)"
   ]
  },
  {
   "cell_type": "code",
   "execution_count": 12,
   "metadata": {},
   "outputs": [
    {
     "data": {
      "text/html": [
       "<div>\n",
       "<style scoped>\n",
       "    .dataframe tbody tr th:only-of-type {\n",
       "        vertical-align: middle;\n",
       "    }\n",
       "\n",
       "    .dataframe tbody tr th {\n",
       "        vertical-align: top;\n",
       "    }\n",
       "\n",
       "    .dataframe thead th {\n",
       "        text-align: right;\n",
       "    }\n",
       "</style>\n",
       "<table border=\"1\" class=\"dataframe\">\n",
       "  <thead>\n",
       "    <tr style=\"text-align: right;\">\n",
       "      <th></th>\n",
       "      <th>realtionship_status</th>\n",
       "      <th>industry</th>\n",
       "      <th>genre</th>\n",
       "      <th>targeted_sex</th>\n",
       "      <th>average_runtime(minutes_per_week)</th>\n",
       "      <th>airtime</th>\n",
       "      <th>airlocation</th>\n",
       "      <th>ratings</th>\n",
       "      <th>expensive</th>\n",
       "      <th>money_back_guarantee</th>\n",
       "      <th>targeted_sex_Male</th>\n",
       "      <th>airtime_Morning</th>\n",
       "      <th>airtime_Primetime</th>\n",
       "      <th>expensive_Low</th>\n",
       "      <th>expensive_Medium</th>\n",
       "      <th>money_back_guarantee_Yes</th>\n",
       "    </tr>\n",
       "  </thead>\n",
       "  <tbody>\n",
       "    <tr>\n",
       "      <th>0</th>\n",
       "      <td>Never-married</td>\n",
       "      <td>Entertainment</td>\n",
       "      <td>Infomercial</td>\n",
       "      <td>Female</td>\n",
       "      <td>40</td>\n",
       "      <td>Primetime</td>\n",
       "      <td>United-States</td>\n",
       "      <td>0.027465</td>\n",
       "      <td>High</td>\n",
       "      <td>Yes</td>\n",
       "      <td>0</td>\n",
       "      <td>0</td>\n",
       "      <td>1</td>\n",
       "      <td>0</td>\n",
       "      <td>0</td>\n",
       "      <td>1</td>\n",
       "    </tr>\n",
       "    <tr>\n",
       "      <th>1</th>\n",
       "      <td>Divorced</td>\n",
       "      <td>Auto</td>\n",
       "      <td>Comedy</td>\n",
       "      <td>Female</td>\n",
       "      <td>40</td>\n",
       "      <td>Primetime</td>\n",
       "      <td>United-States</td>\n",
       "      <td>0.027465</td>\n",
       "      <td>Low</td>\n",
       "      <td>No</td>\n",
       "      <td>0</td>\n",
       "      <td>0</td>\n",
       "      <td>1</td>\n",
       "      <td>1</td>\n",
       "      <td>0</td>\n",
       "      <td>0</td>\n",
       "    </tr>\n",
       "  </tbody>\n",
       "</table>\n",
       "</div>"
      ],
      "text/plain": [
       "  realtionship_status       industry        genre targeted_sex  \\\n",
       "0       Never-married  Entertainment  Infomercial       Female   \n",
       "1            Divorced           Auto       Comedy       Female   \n",
       "\n",
       "   average_runtime(minutes_per_week)    airtime    airlocation   ratings  \\\n",
       "0                                 40  Primetime  United-States  0.027465   \n",
       "1                                 40  Primetime  United-States  0.027465   \n",
       "\n",
       "  expensive money_back_guarantee  targeted_sex_Male  airtime_Morning  \\\n",
       "0      High                  Yes                  0                0   \n",
       "1       Low                   No                  0                0   \n",
       "\n",
       "   airtime_Primetime  expensive_Low  expensive_Medium  \\\n",
       "0                  1              0                 0   \n",
       "1                  1              1                 0   \n",
       "\n",
       "   money_back_guarantee_Yes  \n",
       "0                         1  \n",
       "1                         0  "
      ]
     },
     "execution_count": 12,
     "metadata": {},
     "output_type": "execute_result"
    }
   ],
   "source": [
    "X_cat_t = df_test[one_hot_col]\n",
    "X_cat_t.head(2)\n",
    "X_cat_one_hot_test = pd.get_dummies(X_cat_t, drop_first=True)\n",
    "\n",
    "#Merge With original df\n",
    "cat_proc_columns = X_cat_one_hot_test.columns\n",
    "for col in cat_proc_columns:\n",
    "    df_test_eda[col] = X_cat_one_hot_test[col] \n",
    "    \n",
    "df_test_eda.head(2)"
   ]
  },
  {
   "cell_type": "markdown",
   "metadata": {},
   "source": [
    "### Frequency Encoding"
   ]
  },
  {
   "cell_type": "code",
   "execution_count": 13,
   "metadata": {},
   "outputs": [],
   "source": [
    "# Frequency encoding on selected columns\n",
    "\n",
    "frequency = df_eda.groupby('realtionship_status').size()/len(df_eda)\n",
    "df_eda.loc[:,'realtionship_status_fcode'] = df_eda['realtionship_status'].map(frequency)\n",
    "\n",
    "frequency_1 = df_eda.groupby('industry').size()/len(df_eda)\n",
    "df_eda.loc[:,'industry_fcode'] = df_eda['industry'].map( frequency_1)\n",
    "\n",
    "frequency_2 = df_eda.groupby('genre').size()/len(df_eda)    \n",
    "df_eda.loc[:,'genre_fcode'] = df_eda['genre'].map(frequency_2)\n",
    "\n",
    "frequency_3 = df_eda.groupby('airlocation').size()/len(df_eda)    \n",
    "df_eda.loc[:,'airlocation_fcode'] = df_eda['airlocation'].map(frequency_3)\n",
    "\n",
    "# Drop same columns\n",
    "df_eda.drop(columns='realtionship_status', axis=1, inplace=True)\n",
    "df_eda.drop(columns='industry', axis=1, inplace=True)\n",
    "df_eda.drop(columns='genre', axis=1, inplace=True)\n",
    "df_eda.drop(columns='airlocation', axis=1, inplace=True)"
   ]
  },
  {
   "cell_type": "code",
   "execution_count": 14,
   "metadata": {},
   "outputs": [],
   "source": [
    "# Frequency encoding on selected columns\n",
    "\n",
    "frequency = df_test_eda.groupby('realtionship_status').size()/len(df_test_eda)\n",
    "df_test_eda.loc[:,'realtionship_status_fcode'] = df_test_eda['realtionship_status'].map(frequency)\n",
    "\n",
    "frequency_1 = df_test_eda.groupby('industry').size()/len(df_test_eda)\n",
    "df_test_eda.loc[:,'industry_fcode'] = df_test_eda['industry'].map( frequency_1)\n",
    "\n",
    "frequency_2 = df_test_eda.groupby('genre').size()/len(df_test_eda)    \n",
    "df_test_eda.loc[:,'genre_fcode'] = df_test_eda['genre'].map(frequency_2)\n",
    "\n",
    "frequency_3 = df_test_eda.groupby('airlocation').size()/len(df_test_eda)    \n",
    "df_test_eda.loc[:,'airlocation_fcode'] = df_test_eda['airlocation'].map(frequency_3)\n",
    "\n",
    "# Drop same columns\n",
    "df_test_eda.drop(columns='realtionship_status', axis=1, inplace=True)\n",
    "df_test_eda.drop(columns='industry', axis=1, inplace=True)\n",
    "df_test_eda.drop(columns='genre', axis=1, inplace=True)\n",
    "df_test_eda.drop(columns='airlocation', axis=1, inplace=True)"
   ]
  },
  {
   "cell_type": "code",
   "execution_count": 15,
   "metadata": {},
   "outputs": [],
   "source": [
    "# Droping remaining categorical columns\n",
    "df_eda.drop(one_hot_col, axis=1, inplace=True)\n",
    "df_test_eda.drop(one_hot_col, axis=1, inplace=True)"
   ]
  },
  {
   "cell_type": "code",
   "execution_count": 16,
   "metadata": {},
   "outputs": [
    {
     "data": {
      "text/html": [
       "<div>\n",
       "<style scoped>\n",
       "    .dataframe tbody tr th:only-of-type {\n",
       "        vertical-align: middle;\n",
       "    }\n",
       "\n",
       "    .dataframe tbody tr th {\n",
       "        vertical-align: top;\n",
       "    }\n",
       "\n",
       "    .dataframe thead th {\n",
       "        text-align: right;\n",
       "    }\n",
       "</style>\n",
       "<table border=\"1\" class=\"dataframe\">\n",
       "  <thead>\n",
       "    <tr style=\"text-align: right;\">\n",
       "      <th></th>\n",
       "      <th>0</th>\n",
       "      <th>1</th>\n",
       "    </tr>\n",
       "  </thead>\n",
       "  <tbody>\n",
       "    <tr>\n",
       "      <th>average_runtime(minutes_per_week)</th>\n",
       "      <td>40.000000</td>\n",
       "      <td>35.000000</td>\n",
       "    </tr>\n",
       "    <tr>\n",
       "      <th>ratings</th>\n",
       "      <td>0.027465</td>\n",
       "      <td>0.027465</td>\n",
       "    </tr>\n",
       "    <tr>\n",
       "      <th>netgain</th>\n",
       "      <td>0.000000</td>\n",
       "      <td>0.000000</td>\n",
       "    </tr>\n",
       "    <tr>\n",
       "      <th>targeted_sex_Male</th>\n",
       "      <td>1.000000</td>\n",
       "      <td>1.000000</td>\n",
       "    </tr>\n",
       "    <tr>\n",
       "      <th>airtime_Morning</th>\n",
       "      <td>0.000000</td>\n",
       "      <td>1.000000</td>\n",
       "    </tr>\n",
       "    <tr>\n",
       "      <th>airtime_Primetime</th>\n",
       "      <td>0.000000</td>\n",
       "      <td>0.000000</td>\n",
       "    </tr>\n",
       "    <tr>\n",
       "      <th>expensive_Low</th>\n",
       "      <td>0.000000</td>\n",
       "      <td>1.000000</td>\n",
       "    </tr>\n",
       "    <tr>\n",
       "      <th>expensive_Medium</th>\n",
       "      <td>1.000000</td>\n",
       "      <td>0.000000</td>\n",
       "    </tr>\n",
       "    <tr>\n",
       "      <th>money_back_guarantee_Yes</th>\n",
       "      <td>0.000000</td>\n",
       "      <td>0.000000</td>\n",
       "    </tr>\n",
       "    <tr>\n",
       "      <th>realtionship_status_fcode</th>\n",
       "      <td>0.455518</td>\n",
       "      <td>0.329290</td>\n",
       "    </tr>\n",
       "    <tr>\n",
       "      <th>industry_fcode</th>\n",
       "      <td>0.395936</td>\n",
       "      <td>0.155559</td>\n",
       "    </tr>\n",
       "    <tr>\n",
       "      <th>genre_fcode</th>\n",
       "      <td>0.854781</td>\n",
       "      <td>0.854781</td>\n",
       "    </tr>\n",
       "    <tr>\n",
       "      <th>airlocation_fcode</th>\n",
       "      <td>0.892404</td>\n",
       "      <td>0.018172</td>\n",
       "    </tr>\n",
       "  </tbody>\n",
       "</table>\n",
       "</div>"
      ],
      "text/plain": [
       "                                           0          1\n",
       "average_runtime(minutes_per_week)  40.000000  35.000000\n",
       "ratings                             0.027465   0.027465\n",
       "netgain                             0.000000   0.000000\n",
       "targeted_sex_Male                   1.000000   1.000000\n",
       "airtime_Morning                     0.000000   1.000000\n",
       "airtime_Primetime                   0.000000   0.000000\n",
       "expensive_Low                       0.000000   1.000000\n",
       "expensive_Medium                    1.000000   0.000000\n",
       "money_back_guarantee_Yes            0.000000   0.000000\n",
       "realtionship_status_fcode           0.455518   0.329290\n",
       "industry_fcode                      0.395936   0.155559\n",
       "genre_fcode                         0.854781   0.854781\n",
       "airlocation_fcode                   0.892404   0.018172"
      ]
     },
     "execution_count": 16,
     "metadata": {},
     "output_type": "execute_result"
    }
   ],
   "source": [
    "df_eda.head(2).T"
   ]
  },
  {
   "cell_type": "markdown",
   "metadata": {},
   "source": [
    "# Feature Selection"
   ]
  },
  {
   "cell_type": "markdown",
   "metadata": {},
   "source": [
    "## Co-relation Matrix"
   ]
  },
  {
   "cell_type": "code",
   "execution_count": 17,
   "metadata": {},
   "outputs": [
    {
     "data": {
      "image/png": "[encoded data removed]",
      "text/plain": [
       "<Figure size 432x432 with 2 Axes>"
      ]
     },
     "metadata": {},
     "output_type": "display_data"
    }
   ],
   "source": [
    "# Apply Co-relation on numerical column\n",
    "\n",
    "fig = plt.figure(figsize=(6, 6))\n",
    "sns.heatmap(df_eda[num_col].corr(), annot=True)\n",
    "plt.title('Heatmap for detecting multicollinearity', fontsize=16)\n",
    "plt.show()"
   ]
  },
  {
   "cell_type": "markdown",
   "metadata": {},
   "source": [
    "## CHI-Square Test"
   ]
  },
  {
   "cell_type": "code",
   "execution_count": 18,
   "metadata": {},
   "outputs": [
    {
     "data": {
      "text/plain": [
       "(19536, 62)"
      ]
     },
     "execution_count": 18,
     "metadata": {},
     "output_type": "execute_result"
    }
   ],
   "source": [
    "# Chi-square test for categorical features\n",
    "\n",
    "df_chi = df_train[['realtionship_status', 'industry', 'genre', 'targeted_sex', 'airtime', 'airlocation', 'expensive', 'money_back_guarantee']]\n",
    "\n",
    "X_chi = pd.get_dummies(df_chi, drop_first=True)\n",
    "y_chi = df_train['netgain']\n",
    "X_chi.shape"
   ]
  },
  {
   "cell_type": "code",
   "execution_count": 20,
   "metadata": {},
   "outputs": [
    {
     "name": "stdout",
     "output_type": "stream",
     "text": [
      "For no of features= 1 , score= 0.7595973383381676\n",
      "High Score is: 0.7595973383381676 with features= 1\n",
      "For no of features= 10 , score= 0.7614741511687425\n",
      "High Score is: 0.7614741511687425 with features= 10\n",
      "For no of features= 20 , score= 0.7708582153216175\n",
      "High Score is: 0.7708582153216175 with features= 20\n",
      "For no of features= 30 , score= 0.7701757379286811\n",
      "High Score is: 0.7708582153216175 with features= 20\n",
      "For no of features= 40 , score= 0.7693226411875107\n",
      "High Score is: 0.7708582153216175 with features= 20\n",
      "For no of features= 50 , score= 0.7691520218392766\n",
      "High Score is: 0.7708582153216175 with features= 20\n",
      "For no of features= 60 , score= 0.7674458283569356\n",
      "High Score is: 0.7708582153216175 with features= 20\n"
     ]
    }
   ],
   "source": [
    "# Apply Chi2 and fit the random forest model on train data use df dataset\n",
    "nof_list   = [1, 10, 20, 30, 40, 50, 60]\n",
    "high_score = 0\n",
    "nof        = 0\n",
    "\n",
    "for n in nof_list:\n",
    "    test = SelectKBest(score_func = chi2 , k = n)\n",
    "    X_train, X_test, y_train, y_test = train_test_split(X_chi, y_chi, test_size=0.3, random_state = 42)\n",
    "    \n",
    "    X_train = test.fit_transform(X_train,y_train)\n",
    "    X_test = test.transform(X_test)\n",
    "    \n",
    "    model = RandomForestClassifier()\n",
    "    model.fit(X_train,y_train)\n",
    "    \n",
    "    print(\"For no of features=\",n,\", score=\", model.score(X_test,y_test))\n",
    "    \n",
    "    if model.score(X_test,y_test) > high_score:\n",
    "        high_score = model.score(X_test, y_test)\n",
    "        model_ = model\n",
    "        nof=n \n",
    "    print(\"High Score is:\",high_score, \"with features=\",nof)"
   ]
  },
  {
   "cell_type": "markdown",
   "metadata": {},
   "source": [
    "## Recursive Feature Elimination"
   ]
  },
  {
   "cell_type": "code",
   "execution_count": 33,
   "metadata": {},
   "outputs": [],
   "source": [
    "X = df_eda.drop('netgain', 1)\n",
    "y = df_eda['netgain']\n",
    "\n",
    "X_train, X_test, y_train, y_test = train_test_split(X, y, random_state=0, test_size=0.3)"
   ]
  },
  {
   "cell_type": "code",
   "execution_count": 34,
   "metadata": {},
   "outputs": [
    {
     "name": "stdout",
     "output_type": "stream",
     "text": [
      "[ True  True False  True  True  True False  True  True  True  True  True]\n",
      "[1 1 2 1 1 1 3 1 1 1 1 1]\n",
      "Features sorted by their rank:\n",
      "[(1, 'airlocation_fcode'), (1, 'airtime_Morning'), (1, 'airtime_Primetime'), (1, 'average_runtime(minutes_per_week)'), (1, 'expensive_Low'), (1, 'genre_fcode'), (1, 'industry_fcode'), (1, 'money_back_guarantee_Yes'), (1, 'ratings'), (1, 'realtionship_status_fcode'), (2, 'targeted_sex_Male'), (3, 'expensive_Medium')]\n"
     ]
    }
   ],
   "source": [
    "from sklearn.feature_selection import RFE \n",
    "# create a base classifier used to evaluate a subset of attributes\n",
    "model = RandomForestClassifier()\n",
    "\n",
    "# create the RFE model and select 3 attributes\n",
    "rfe = RFE(model, 10)\n",
    "rfe = rfe.fit(X_train, y_train)\n",
    "\n",
    "# summarize the selection of the attributes\n",
    "print(rfe.support_)\n",
    "print(rfe.ranking_)\n",
    "print(\"Features sorted by their rank:\")\n",
    "print(sorted(zip(map(lambda x: round(x, 4), rfe.ranking_), X.columns)))"
   ]
  },
  {
   "cell_type": "markdown",
   "metadata": {},
   "source": [
    "# Feature Importance"
   ]
  },
  {
   "cell_type": "markdown",
   "metadata": {},
   "source": [
    "## Decision Tree Classifier"
   ]
  },
  {
   "cell_type": "code",
   "execution_count": 35,
   "metadata": {},
   "outputs": [
    {
     "data": {
      "image/png": "[encoded data removed]",
      "text/plain": [
       "<Figure size 720x720 with 1 Axes>"
      ]
     },
     "metadata": {},
     "output_type": "display_data"
    }
   ],
   "source": [
    "plt.figure(figsize=(10, 10))\n",
    "# Build a forest and compute the feature importances\n",
    "forest = ExtraTreesClassifier(n_estimators=250, random_state=0)\n",
    "forest.fit(X, y)\n",
    "\n",
    "#plot graph of feature importances for better visualization\n",
    "feat_importances = pd.Series(forest.feature_importances_, index=X.columns)\n",
    "feat_importances.nlargest(10).sort_values(ascending=True).plot(kind='barh')\n",
    "plt.show()"
   ]
  },
  {
   "cell_type": "markdown",
   "metadata": {},
   "source": [
    "## XGBoost Classifier"
   ]
  },
  {
   "cell_type": "code",
   "execution_count": 36,
   "metadata": {},
   "outputs": [
    {
     "data": {
      "image/png": "[encoded data removed]",
      "text/plain": [
       "<Figure size 720x720 with 1 Axes>"
      ]
     },
     "metadata": {},
     "output_type": "display_data"
    }
   ],
   "source": [
    "plt.figure(figsize=(10, 10))\n",
    "# Build a forest and compute the feature importances\n",
    "XGB = XGBClassifier(n_estimators=250, random_state=0)\n",
    "XGB.fit(X, y)\n",
    "\n",
    "#plot graph of feature importances for better visualization\n",
    "feat_importances = pd.Series(forest.feature_importances_, index=X.columns)\n",
    "feat_importances.nlargest(10).sort_values(ascending=True).plot(kind='barh')\n",
    "plt.show()"
   ]
  },
  {
   "cell_type": "code",
   "execution_count": 37,
   "metadata": {
    "scrolled": true
   },
   "outputs": [
    {
     "data": {
      "text/plain": [
       "ratings                              0.237799\n",
       "average_runtime(minutes_per_week)    0.212041\n",
       "realtionship_status_fcode            0.151720\n",
       "industry_fcode                       0.131108\n",
       "airtime_Morning                      0.067106\n",
       "airtime_Primetime                    0.054739\n",
       "airlocation_fcode                    0.053077\n",
       "targeted_sex_Male                    0.032574\n",
       "genre_fcode                          0.025607\n",
       "money_back_guarantee_Yes             0.014287\n",
       "expensive_Low                        0.012696\n",
       "expensive_Medium                     0.007246\n",
       "dtype: float64"
      ]
     },
     "execution_count": 37,
     "metadata": {},
     "output_type": "execute_result"
    }
   ],
   "source": [
    "# Feature Importance\n",
    "feat_importances.nlargest(12)"
   ]
  },
  {
   "cell_type": "markdown",
   "metadata": {},
   "source": [
    "# Model Selection"
   ]
  },
  {
   "cell_type": "markdown",
   "metadata": {},
   "source": [
    "## Imbalanced Data"
   ]
  },
  {
   "cell_type": "code",
   "execution_count": 21,
   "metadata": {},
   "outputs": [],
   "source": [
    "X = df_eda.drop('netgain', 1)\n",
    "y = df_eda['netgain']\n",
    "\n",
    "X_train, X_test, y_train, y_test = train_test_split(X, y, random_state=0, test_size=0.3)"
   ]
  },
  {
   "cell_type": "code",
   "execution_count": 22,
   "metadata": {},
   "outputs": [
    {
     "name": "stdout",
     "output_type": "stream",
     "text": [
      "Shape of data (13675, 12) (13675,)\n"
     ]
    }
   ],
   "source": [
    "scaler  = MinMaxScaler()\n",
    "X_train = scaler.fit_transform(X_train)\n",
    "X_test  = scaler.transform(X_test)\n",
    "# df_scalar = scaler.transform(df_eda)\n",
    "\n",
    "print('Shape of data', X_train.shape, y_train.shape)"
   ]
  },
  {
   "cell_type": "markdown",
   "metadata": {},
   "source": [
    "## Balanced Data (SMOTE)"
   ]
  },
  {
   "cell_type": "code",
   "execution_count": 23,
   "metadata": {},
   "outputs": [
    {
     "name": "stdout",
     "output_type": "stream",
     "text": [
      "Shape of data (20840, 12) (20840,)\n"
     ]
    }
   ],
   "source": [
    "smote = SMOTE(random_state=10)\n",
    "\n",
    "X_SMOTE, y_SMOTE = smote.fit_resample(X, y)\n",
    "X_train_smote, X_test_smote, y_train_smote, y_test_smote = train_test_split(X_SMOTE, y_SMOTE, random_state=0, test_size=0.3)\n",
    "\n",
    "print('Shape of data', X_train_smote.shape, y_train_smote.shape)"
   ]
  },
  {
   "cell_type": "markdown",
   "metadata": {},
   "source": [
    "## Balanced Data (SMOTE Tomek)"
   ]
  },
  {
   "cell_type": "code",
   "execution_count": 24,
   "metadata": {},
   "outputs": [
    {
     "name": "stdout",
     "output_type": "stream",
     "text": [
      "Shape of data (20539, 12) (20539,)\n"
     ]
    }
   ],
   "source": [
    "tomek = SMOTETomek(random_state=10)\n",
    "\n",
    "X_tomek, y_tomek = tomek.fit_resample(X, y)\n",
    "X_train_tomek, X_test_tomek, y_train_tomek, y_test_tomek = train_test_split(X_tomek, y_tomek, random_state=0, test_size=0.3)\n",
    "\n",
    "print('Shape of data', X_train_tomek.shape, y_train_tomek.shape)"
   ]
  },
  {
   "cell_type": "markdown",
   "metadata": {},
   "source": [
    "## Model Building"
   ]
  },
  {
   "cell_type": "code",
   "execution_count": 25,
   "metadata": {},
   "outputs": [],
   "source": [
    "models = {'Random Forest Classifier':RandomForestClassifier(min_samples_split= 2, min_samples_leaf= 1,\\\n",
    "           max_features= 'sqrt', max_depth= 560,criterion= 'entropy'), \n",
    "          'Logistic Regression':LogisticRegression(), \n",
    "          'XGBoost Classifier':XGBClassifier(), \n",
    "          'Decision Tree Classifier': DecisionTreeClassifier()}"
   ]
  },
  {
   "cell_type": "code",
   "execution_count": 26,
   "metadata": {},
   "outputs": [],
   "source": [
    "def model_building(models, X, y):\n",
    "    X_train, X_test, y_train, y_test = train_test_split(X, y, random_state=0, test_size=0.3)\n",
    "    for name, model in models.items():\n",
    "        score = cross_val_score(model, X_train, y_train, cv=StratifiedKFold(shuffle=True),\\\n",
    "                                scoring='f1', n_jobs=-1)\n",
    "        print(f'{name} f1-score : {np.mean(score)}')\n",
    "        model.fit(X_train, y_train)\n",
    "        \n",
    "        y_pred = model.predict(X_test)\n",
    "        print(\"Confusion Matrix: \\n\",confusion_matrix(y_test, y_pred))\n",
    "        print(\"==\"*30)\n",
    "        print(\"Classification Report: \\n\",classification_report(y_test,y_pred))"
   ]
  },
  {
   "cell_type": "code",
   "execution_count": 27,
   "metadata": {},
   "outputs": [
    {
     "name": "stdout",
     "output_type": "stream",
     "text": [
      "With Imbalanced Data\n",
      "============================================================\n",
      "Random Forest Classifier f1-score : 0.5118375723599509\n",
      "Confusion Matrix: \n",
      " [[4071  378]\n",
      " [ 749  663]]\n",
      "============================================================\n",
      "Classification Report: \n",
      "               precision    recall  f1-score   support\n",
      "\n",
      "           0       0.84      0.92      0.88      4449\n",
      "           1       0.64      0.47      0.54      1412\n",
      "\n",
      "    accuracy                           0.81      5861\n",
      "   macro avg       0.74      0.69      0.71      5861\n",
      "weighted avg       0.79      0.81      0.80      5861\n",
      "\n",
      "Logistic Regression f1-score : 0.4005963550042705\n",
      "Confusion Matrix: \n",
      " [[4220  229]\n",
      " [ 948  464]]\n",
      "============================================================\n",
      "Classification Report: \n",
      "               precision    recall  f1-score   support\n",
      "\n",
      "           0       0.82      0.95      0.88      4449\n",
      "           1       0.67      0.33      0.44      1412\n",
      "\n",
      "    accuracy                           0.80      5861\n",
      "   macro avg       0.74      0.64      0.66      5861\n",
      "weighted avg       0.78      0.80      0.77      5861\n",
      "\n",
      "XGBoost Classifier f1-score : 0.5340223394953648\n",
      "Confusion Matrix: \n",
      " [[4170  279]\n",
      " [ 780  632]]\n",
      "============================================================\n",
      "Classification Report: \n",
      "               precision    recall  f1-score   support\n",
      "\n",
      "           0       0.84      0.94      0.89      4449\n",
      "           1       0.69      0.45      0.54      1412\n",
      "\n",
      "    accuracy                           0.82      5861\n",
      "   macro avg       0.77      0.69      0.72      5861\n",
      "weighted avg       0.81      0.82      0.80      5861\n",
      "\n",
      "Decision Tree Classifier f1-score : 0.4959979611264661\n",
      "Confusion Matrix: \n",
      " [[4012  437]\n",
      " [ 769  643]]\n",
      "============================================================\n",
      "Classification Report: \n",
      "               precision    recall  f1-score   support\n",
      "\n",
      "           0       0.84      0.90      0.87      4449\n",
      "           1       0.60      0.46      0.52      1412\n",
      "\n",
      "    accuracy                           0.79      5861\n",
      "   macro avg       0.72      0.68      0.69      5861\n",
      "weighted avg       0.78      0.79      0.78      5861\n",
      "\n"
     ]
    }
   ],
   "source": [
    "print('With Imbalanced Data')\n",
    "print(\"==\"*30)\n",
    "model_building(models, X, y)"
   ]
  },
  {
   "cell_type": "code",
   "execution_count": 28,
   "metadata": {},
   "outputs": [
    {
     "name": "stdout",
     "output_type": "stream",
     "text": [
      "With SMOTE balanced Data\n",
      "============================================================\n",
      "Random Forest Classifier f1-score : 0.8347195903578722\n",
      "Confusion Matrix: \n",
      " [[3466  984]\n",
      " [ 510 3972]]\n",
      "============================================================\n",
      "Classification Report: \n",
      "               precision    recall  f1-score   support\n",
      "\n",
      "           0       0.87      0.78      0.82      4450\n",
      "           1       0.80      0.89      0.84      4482\n",
      "\n",
      "    accuracy                           0.83      8932\n",
      "   macro avg       0.84      0.83      0.83      8932\n",
      "weighted avg       0.84      0.83      0.83      8932\n",
      "\n",
      "Logistic Regression f1-score : 0.7719194223574611\n",
      "Confusion Matrix: \n",
      " [[3243 1207]\n",
      " [ 837 3645]]\n",
      "============================================================\n",
      "Classification Report: \n",
      "               precision    recall  f1-score   support\n",
      "\n",
      "           0       0.79      0.73      0.76      4450\n",
      "           1       0.75      0.81      0.78      4482\n",
      "\n",
      "    accuracy                           0.77      8932\n",
      "   macro avg       0.77      0.77      0.77      8932\n",
      "weighted avg       0.77      0.77      0.77      8932\n",
      "\n",
      "XGBoost Classifier f1-score : 0.8431036769129665\n",
      "Confusion Matrix: \n",
      " [[3458  992]\n",
      " [ 427 4055]]\n",
      "============================================================\n",
      "Classification Report: \n",
      "               precision    recall  f1-score   support\n",
      "\n",
      "           0       0.89      0.78      0.83      4450\n",
      "           1       0.80      0.90      0.85      4482\n",
      "\n",
      "    accuracy                           0.84      8932\n",
      "   macro avg       0.85      0.84      0.84      8932\n",
      "weighted avg       0.85      0.84      0.84      8932\n",
      "\n",
      "Decision Tree Classifier f1-score : 0.8234234207112353\n",
      "Confusion Matrix: \n",
      " [[3457  993]\n",
      " [ 564 3918]]\n",
      "============================================================\n",
      "Classification Report: \n",
      "               precision    recall  f1-score   support\n",
      "\n",
      "           0       0.86      0.78      0.82      4450\n",
      "           1       0.80      0.87      0.83      4482\n",
      "\n",
      "    accuracy                           0.83      8932\n",
      "   macro avg       0.83      0.83      0.83      8932\n",
      "weighted avg       0.83      0.83      0.83      8932\n",
      "\n"
     ]
    }
   ],
   "source": [
    "print('With SMOTE balanced Data')\n",
    "print(\"==\"*30)\n",
    "model_building(models, X_SMOTE, y_SMOTE)"
   ]
  },
  {
   "cell_type": "code",
   "execution_count": 29,
   "metadata": {},
   "outputs": [
    {
     "name": "stdout",
     "output_type": "stream",
     "text": [
      "With SMOTE Tomek balanced Data\n",
      "============================================================\n",
      "Random Forest Classifier f1-score : 0.8411270576605988\n",
      "Confusion Matrix: \n",
      " [[3400 1006]\n",
      " [ 461 3936]]\n",
      "============================================================\n",
      "Classification Report: \n",
      "               precision    recall  f1-score   support\n",
      "\n",
      "           0       0.88      0.77      0.82      4406\n",
      "           1       0.80      0.90      0.84      4397\n",
      "\n",
      "    accuracy                           0.83      8803\n",
      "   macro avg       0.84      0.83      0.83      8803\n",
      "weighted avg       0.84      0.83      0.83      8803\n",
      "\n",
      "Logistic Regression f1-score : 0.7801225144984968\n",
      "Confusion Matrix: \n",
      " [[3157 1249]\n",
      " [ 856 3541]]\n",
      "============================================================\n",
      "Classification Report: \n",
      "               precision    recall  f1-score   support\n",
      "\n",
      "           0       0.79      0.72      0.75      4406\n",
      "           1       0.74      0.81      0.77      4397\n",
      "\n",
      "    accuracy                           0.76      8803\n",
      "   macro avg       0.76      0.76      0.76      8803\n",
      "weighted avg       0.76      0.76      0.76      8803\n",
      "\n",
      "XGBoost Classifier f1-score : 0.8461441184800769\n",
      "Confusion Matrix: \n",
      " [[3417  989]\n",
      " [ 435 3962]]\n",
      "============================================================\n",
      "Classification Report: \n",
      "               precision    recall  f1-score   support\n",
      "\n",
      "           0       0.89      0.78      0.83      4406\n",
      "           1       0.80      0.90      0.85      4397\n",
      "\n",
      "    accuracy                           0.84      8803\n",
      "   macro avg       0.84      0.84      0.84      8803\n",
      "weighted avg       0.84      0.84      0.84      8803\n",
      "\n",
      "Decision Tree Classifier f1-score : 0.8295054816083841\n",
      "Confusion Matrix: \n",
      " [[3390 1016]\n",
      " [ 507 3890]]\n",
      "============================================================\n",
      "Classification Report: \n",
      "               precision    recall  f1-score   support\n",
      "\n",
      "           0       0.87      0.77      0.82      4406\n",
      "           1       0.79      0.88      0.84      4397\n",
      "\n",
      "    accuracy                           0.83      8803\n",
      "   macro avg       0.83      0.83      0.83      8803\n",
      "weighted avg       0.83      0.83      0.83      8803\n",
      "\n"
     ]
    }
   ],
   "source": [
    "print('With SMOTE Tomek balanced Data')\n",
    "print(\"==\"*30)\n",
    "model_building(models, X_tomek, y_tomek)"
   ]
  },
  {
   "cell_type": "markdown",
   "metadata": {},
   "source": [
    "<b>Insight:</b><br>\n",
    "- XGBoost Classifier with SMOTE Tomek technique gives maximum F1-Score : 0.8451358856909236"
   ]
  },
  {
   "cell_type": "markdown",
   "metadata": {},
   "source": [
    "# Hyperparameter Tuning"
   ]
  },
  {
   "cell_type": "code",
   "execution_count": 28,
   "metadata": {},
   "outputs": [],
   "source": [
    "from sklearn.model_selection import GridSearchCV\n",
    "def grid_search_cv(estimator, parameters):\n",
    "    grid_search = GridSearchCV(\n",
    "        estimator = estimator,\n",
    "        param_grid = parameters,\n",
    "        scoring = 'precision',\n",
    "        n_jobs = 10,\n",
    "        cv = 10,\n",
    "        verbose=True\n",
    "    )\n",
    "    grid_search.fit(X_tomek, y_tomek)\n",
    "    return grid_search"
   ]
  },
  {
   "cell_type": "markdown",
   "metadata": {},
   "source": [
    "## Random Forest Classifier"
   ]
  },
  {
   "cell_type": "code",
   "execution_count": 50,
   "metadata": {},
   "outputs": [
    {
     "name": "stdout",
     "output_type": "stream",
     "text": [
      "Fitting 10 folds for each of 324 candidates, totalling 3240 fits\n"
     ]
    },
    {
     "name": "stderr",
     "output_type": "stream",
     "text": [
      "[Parallel(n_jobs=10)]: Using backend LokyBackend with 10 concurrent workers.\n",
      "[Parallel(n_jobs=10)]: Done  30 tasks      | elapsed:   11.2s\n",
      "[Parallel(n_jobs=10)]: Done 180 tasks      | elapsed:   32.2s\n",
      "[Parallel(n_jobs=10)]: Done 430 tasks      | elapsed:  1.1min\n",
      "[Parallel(n_jobs=10)]: Done 780 tasks      | elapsed:  2.1min\n",
      "[Parallel(n_jobs=10)]: Done 1230 tasks      | elapsed:  3.4min\n",
      "[Parallel(n_jobs=10)]: Done 1780 tasks      | elapsed:  5.1min\n",
      "[Parallel(n_jobs=10)]: Done 2430 tasks      | elapsed:  6.6min\n",
      "[Parallel(n_jobs=10)]: Done 3180 tasks      | elapsed:  8.9min\n",
      "[Parallel(n_jobs=10)]: Done 3240 out of 3240 | elapsed:  9.1min finished\n"
     ]
    },
    {
     "name": "stdout",
     "output_type": "stream",
     "text": [
      "RandomForestClassifier(criterion='entropy', max_depth=6, max_features='log2',\n",
      "                       min_samples_split=3, random_state=9)\n"
     ]
    }
   ],
   "source": [
    "#Random Forest GRID SEARCH CV\n",
    "estimator = RandomForestClassifier(random_state=9)\n",
    "parameters = {'n_estimators': [10, 50, 100], \n",
    "              'max_features': ['log2', 'sqrt'], \n",
    "              'criterion': ['entropy', 'gini'],\n",
    "              'max_depth': [2,4,6], \n",
    "              'min_samples_split': [2, 3, 5],\n",
    "              'min_samples_leaf': [1,3,5] \n",
    "             }\n",
    "grid_search = grid_search_cv(estimator, parameters)\n",
    "print(grid_search.best_estimator_)"
   ]
  },
  {
   "cell_type": "code",
   "execution_count": 31,
   "metadata": {},
   "outputs": [
    {
     "name": "stdout",
     "output_type": "stream",
     "text": [
      "f1-score : 0.8208902675373764\n",
      "Confusion Matrix: \n",
      " [[3168 1238]\n",
      " [ 482 3915]]\n",
      "============================================================\n",
      "Classification Report: \n",
      "               precision    recall  f1-score   support\n",
      "\n",
      "           0       0.87      0.72      0.79      4406\n",
      "           1       0.76      0.89      0.82      4397\n",
      "\n",
      "    accuracy                           0.80      8803\n",
      "   macro avg       0.81      0.80      0.80      8803\n",
      "weighted avg       0.81      0.80      0.80      8803\n",
      "\n"
     ]
    }
   ],
   "source": [
    "column_names = ['ratings', 'average_runtime(minutes_per_week)', 'realtionship_status_fcode', \\\n",
    "                'industry_fcode', 'airtime_Morning', 'airtime_Primetime', 'airlocation_fcode', \\\n",
    "                'targeted_sex_Male', 'genre_fcode', 'money_back_guarantee_Yes', 'expensive_Low', 'expensive_Medium']\n",
    "\n",
    "X_tomek = X_tomek[column_names]\n",
    "\n",
    "X_train, X_test, y_train, y_test = train_test_split(X_tomek, y_tomek, random_state = 0, test_size = 0.3)\n",
    "\n",
    "#scaler = StandardScaler()\n",
    "#scaler  = MinMaxScaler()\n",
    "#X_train = scaler.fit_transform(X_train)\n",
    "#X_test  = scaler.transform(X_test)\n",
    "\n",
    "rfc_model = RandomForestClassifier(criterion='entropy', max_depth=6, max_features='log2',\\\n",
    "                                   min_samples_split=3, random_state=9)\n",
    "\n",
    "score = cross_val_score(rfc_model, X_train, y_train, cv=StratifiedKFold(shuffle=True), scoring='f1', n_jobs=-1)\n",
    "\n",
    "print(f'f1-score : {np.mean(score)}')\n",
    "\n",
    "rfc_model.fit(X_train, y_train)\n",
    "        \n",
    "y_pred = rfc_model.predict(X_test)\n",
    "print(\"Confusion Matrix: \\n\",confusion_matrix(y_test, y_pred))\n",
    "print(\"==\"*30)\n",
    "print(\"Classification Report: \\n\",classification_report(y_test,y_pred))"
   ]
  },
  {
   "cell_type": "markdown",
   "metadata": {},
   "source": [
    "## XGBoost Implementation"
   ]
  },
  {
   "cell_type": "code",
   "execution_count": 51,
   "metadata": {},
   "outputs": [
    {
     "name": "stdout",
     "output_type": "stream",
     "text": [
      "Fitting 10 folds for each of 96 candidates, totalling 960 fits\n"
     ]
    },
    {
     "name": "stderr",
     "output_type": "stream",
     "text": [
      "[Parallel(n_jobs=10)]: Using backend LokyBackend with 10 concurrent workers.\n",
      "[Parallel(n_jobs=10)]: Done  30 tasks      | elapsed:   14.3s\n",
      "[Parallel(n_jobs=10)]: Done 180 tasks      | elapsed:  2.0min\n",
      "[Parallel(n_jobs=10)]: Done 430 tasks      | elapsed:  6.1min\n",
      "[Parallel(n_jobs=10)]: Done 780 tasks      | elapsed: 12.2min\n",
      "[Parallel(n_jobs=10)]: Done 960 out of 960 | elapsed: 16.1min finished\n"
     ]
    },
    {
     "name": "stdout",
     "output_type": "stream",
     "text": [
      "XGBClassifier(base_score=0.5, booster='gbtree', colsample_bylevel=1,\n",
      "              colsample_bynode=1, colsample_bytree=1, gamma=0, gpu_id=-1,\n",
      "              importance_type='gain', interaction_constraints='',\n",
      "              learning_rate=0.1, max_delta_step=0, max_depth=8,\n",
      "              min_child_weight=1, missing=nan, monotone_constraints='()',\n",
      "              n_estimators=180, n_jobs=4, nthread=4, num_parallel_tree=1,\n",
      "              random_state=42, reg_alpha=0, reg_lambda=1, scale_pos_weight=1,\n",
      "              seed=42, subsample=1, tree_method='exact', validate_parameters=1,\n",
      "              verbosity=None)\n"
     ]
    }
   ],
   "source": [
    "#XGBOOST GRID SEARCH CV\n",
    "estimator = XGBClassifier(\n",
    "    objective = 'binary:logistic',\n",
    "    nthread = 4,\n",
    "    seed = 42\n",
    ")\n",
    "\n",
    "parameters = {\n",
    "    'max_depth': range (2, 10, 1),\n",
    "    'n_estimators': range(60, 220, 40),\n",
    "    'learning_rate': [0.1, 0.01, 0.05]\n",
    "}\n",
    "\n",
    "grid_search = grid_search_cv(estimator, parameters)\n",
    "print(grid_search.best_estimator_)"
   ]
  },
  {
   "cell_type": "code",
   "execution_count": 32,
   "metadata": {},
   "outputs": [
    {
     "name": "stdout",
     "output_type": "stream",
     "text": [
      "f1-score : 0.8459223056781797\n",
      "Confusion Matrix: \n",
      " [[3426  980]\n",
      " [ 429 3968]]\n",
      "============================================================\n",
      "Classification Report: \n",
      "               precision    recall  f1-score   support\n",
      "\n",
      "           0       0.89      0.78      0.83      4406\n",
      "           1       0.80      0.90      0.85      4397\n",
      "\n",
      "    accuracy                           0.84      8803\n",
      "   macro avg       0.85      0.84      0.84      8803\n",
      "weighted avg       0.85      0.84      0.84      8803\n",
      "\n"
     ]
    }
   ],
   "source": [
    "column_names = ['ratings', 'average_runtime(minutes_per_week)', 'realtionship_status_fcode', \\\n",
    "                'industry_fcode', 'airtime_Morning', 'airtime_Primetime', 'airlocation_fcode', \\\n",
    "                'targeted_sex_Male', 'genre_fcode', 'money_back_guarantee_Yes', 'expensive_Low', 'expensive_Medium']\n",
    "\n",
    "X_tomek = X_tomek[column_names]\n",
    "\n",
    "X_train, X_test, y_train, y_test = train_test_split(X_tomek, y_tomek, random_state = 0, test_size = 0.3)\n",
    "\n",
    "#scaler = StandardScaler()\n",
    "#scaler  = MinMaxScaler()\n",
    "#X_train = scaler.fit_transform(X_train)\n",
    "#X_test  = scaler.transform(X_test)\n",
    "\n",
    "xgb_model = XGBClassifier(base_score=0.5, booster='gbtree', colsample_bylevel=1, \\\n",
    "              colsample_bynode=1, colsample_bytree=1, gamma=0, gpu_id=-1, \\\n",
    "              importance_type='gain', interaction_constraints='', \\\n",
    "              learning_rate=0.1, max_delta_step=0, max_depth=8, \\\n",
    "              min_child_weight=1, missing=np.nan, monotone_constraints='()', \\\n",
    "              n_estimators=180, n_jobs=4, nthread=4, num_parallel_tree=1, \\\n",
    "              random_state=42, reg_alpha=0, reg_lambda=1, scale_pos_weight=1, \\\n",
    "              seed=42, subsample=1, tree_method='exact', validate_parameters=1, \\\n",
    "              verbosity=None)\n",
    "\n",
    "# Fit the model\n",
    "xgb_model.fit(X_train, y_train)\n",
    "\n",
    "# Store the predicted values of test data\n",
    "y_pred = xgb_model.predict(X_test)\n",
    "\n",
    "\n",
    "score = cross_val_score(xgb_model, X_train, y_train, cv=StratifiedKFold(shuffle=True), scoring='f1', n_jobs=-1)\n",
    "\n",
    "print(f'f1-score : {np.mean(score)}')\n",
    "\n",
    "xgb_model.fit(X_train, y_train)\n",
    "        \n",
    "y_pred = xgb_model.predict(X_test)\n",
    "print(\"Confusion Matrix: \\n\",confusion_matrix(y_test, y_pred))\n",
    "print(\"==\"*30)\n",
    "print(\"Classification Report: \\n\",classification_report(y_test,y_pred))"
   ]
  },
  {
   "cell_type": "markdown",
   "metadata": {},
   "source": [
    "# Prediction on Test Data"
   ]
  },
  {
   "cell_type": "code",
   "execution_count": 33,
   "metadata": {},
   "outputs": [
    {
     "data": {
      "text/html": [
       "<div>\n",
       "<style scoped>\n",
       "    .dataframe tbody tr th:only-of-type {\n",
       "        vertical-align: middle;\n",
       "    }\n",
       "\n",
       "    .dataframe tbody tr th {\n",
       "        vertical-align: top;\n",
       "    }\n",
       "\n",
       "    .dataframe thead th {\n",
       "        text-align: right;\n",
       "    }\n",
       "</style>\n",
       "<table border=\"1\" class=\"dataframe\">\n",
       "  <thead>\n",
       "    <tr style=\"text-align: right;\">\n",
       "      <th></th>\n",
       "      <th>0</th>\n",
       "      <th>1</th>\n",
       "      <th>2</th>\n",
       "      <th>3</th>\n",
       "      <th>4</th>\n",
       "    </tr>\n",
       "  </thead>\n",
       "  <tbody>\n",
       "    <tr>\n",
       "      <th>ratings</th>\n",
       "      <td>0.027465</td>\n",
       "      <td>0.027465</td>\n",
       "      <td>0.027465</td>\n",
       "      <td>0.027465</td>\n",
       "      <td>0.027465</td>\n",
       "    </tr>\n",
       "    <tr>\n",
       "      <th>average_runtime(minutes_per_week)</th>\n",
       "      <td>40.000000</td>\n",
       "      <td>40.000000</td>\n",
       "      <td>40.000000</td>\n",
       "      <td>30.000000</td>\n",
       "      <td>70.000000</td>\n",
       "    </tr>\n",
       "    <tr>\n",
       "      <th>realtionship_status_fcode</th>\n",
       "      <td>0.324631</td>\n",
       "      <td>0.145731</td>\n",
       "      <td>0.452242</td>\n",
       "      <td>0.324631</td>\n",
       "      <td>0.324631</td>\n",
       "    </tr>\n",
       "    <tr>\n",
       "      <th>industry_fcode</th>\n",
       "      <td>0.107647</td>\n",
       "      <td>0.267660</td>\n",
       "      <td>0.399877</td>\n",
       "      <td>0.267660</td>\n",
       "      <td>0.149724</td>\n",
       "    </tr>\n",
       "    <tr>\n",
       "      <th>airtime_Morning</th>\n",
       "      <td>0.000000</td>\n",
       "      <td>0.000000</td>\n",
       "      <td>0.000000</td>\n",
       "      <td>0.000000</td>\n",
       "      <td>1.000000</td>\n",
       "    </tr>\n",
       "    <tr>\n",
       "      <th>airtime_Primetime</th>\n",
       "      <td>1.000000</td>\n",
       "      <td>1.000000</td>\n",
       "      <td>1.000000</td>\n",
       "      <td>1.000000</td>\n",
       "      <td>0.000000</td>\n",
       "    </tr>\n",
       "    <tr>\n",
       "      <th>airlocation_fcode</th>\n",
       "      <td>0.893120</td>\n",
       "      <td>0.893120</td>\n",
       "      <td>0.893120</td>\n",
       "      <td>0.893120</td>\n",
       "      <td>0.893120</td>\n",
       "    </tr>\n",
       "    <tr>\n",
       "      <th>targeted_sex_Male</th>\n",
       "      <td>0.000000</td>\n",
       "      <td>0.000000</td>\n",
       "      <td>1.000000</td>\n",
       "      <td>1.000000</td>\n",
       "      <td>1.000000</td>\n",
       "    </tr>\n",
       "    <tr>\n",
       "      <th>genre_fcode</th>\n",
       "      <td>0.099048</td>\n",
       "      <td>0.853655</td>\n",
       "      <td>0.099048</td>\n",
       "      <td>0.853655</td>\n",
       "      <td>0.853655</td>\n",
       "    </tr>\n",
       "    <tr>\n",
       "      <th>money_back_guarantee_Yes</th>\n",
       "      <td>1.000000</td>\n",
       "      <td>0.000000</td>\n",
       "      <td>0.000000</td>\n",
       "      <td>1.000000</td>\n",
       "      <td>0.000000</td>\n",
       "    </tr>\n",
       "    <tr>\n",
       "      <th>expensive_Low</th>\n",
       "      <td>0.000000</td>\n",
       "      <td>1.000000</td>\n",
       "      <td>0.000000</td>\n",
       "      <td>0.000000</td>\n",
       "      <td>1.000000</td>\n",
       "    </tr>\n",
       "    <tr>\n",
       "      <th>expensive_Medium</th>\n",
       "      <td>0.000000</td>\n",
       "      <td>0.000000</td>\n",
       "      <td>0.000000</td>\n",
       "      <td>0.000000</td>\n",
       "      <td>0.000000</td>\n",
       "    </tr>\n",
       "  </tbody>\n",
       "</table>\n",
       "</div>"
      ],
      "text/plain": [
       "                                           0          1          2          3  \\\n",
       "ratings                             0.027465   0.027465   0.027465   0.027465   \n",
       "average_runtime(minutes_per_week)  40.000000  40.000000  40.000000  30.000000   \n",
       "realtionship_status_fcode           0.324631   0.145731   0.452242   0.324631   \n",
       "industry_fcode                      0.107647   0.267660   0.399877   0.267660   \n",
       "airtime_Morning                     0.000000   0.000000   0.000000   0.000000   \n",
       "airtime_Primetime                   1.000000   1.000000   1.000000   1.000000   \n",
       "airlocation_fcode                   0.893120   0.893120   0.893120   0.893120   \n",
       "targeted_sex_Male                   0.000000   0.000000   1.000000   1.000000   \n",
       "genre_fcode                         0.099048   0.853655   0.099048   0.853655   \n",
       "money_back_guarantee_Yes            1.000000   0.000000   0.000000   1.000000   \n",
       "expensive_Low                       0.000000   1.000000   0.000000   0.000000   \n",
       "expensive_Medium                    0.000000   0.000000   0.000000   0.000000   \n",
       "\n",
       "                                           4  \n",
       "ratings                             0.027465  \n",
       "average_runtime(minutes_per_week)  70.000000  \n",
       "realtionship_status_fcode           0.324631  \n",
       "industry_fcode                      0.149724  \n",
       "airtime_Morning                     1.000000  \n",
       "airtime_Primetime                   0.000000  \n",
       "airlocation_fcode                   0.893120  \n",
       "targeted_sex_Male                   1.000000  \n",
       "genre_fcode                         0.853655  \n",
       "money_back_guarantee_Yes            0.000000  \n",
       "expensive_Low                       1.000000  \n",
       "expensive_Medium                    0.000000  "
      ]
     },
     "execution_count": 33,
     "metadata": {},
     "output_type": "execute_result"
    }
   ],
   "source": [
    "# Read the test data\n",
    "\n",
    "# Storing the id from the test file\n",
    "id_ = df_test['UserID']\n",
    "\n",
    "test_cols = ['ratings', 'average_runtime(minutes_per_week)', 'realtionship_status_fcode', 'industry_fcode', \\\n",
    "             'airtime_Morning', 'airtime_Primetime', 'airlocation_fcode', 'targeted_sex_Male', 'genre_fcode', \\\n",
    "             'money_back_guarantee_Yes', 'expensive_Low', 'expensive_Medium']\n",
    "\n",
    "df_test_eda = df_test_eda[test_cols]\n",
    "\n",
    "df_test_eda.head().T"
   ]
  },
  {
   "cell_type": "code",
   "execution_count": 34,
   "metadata": {},
   "outputs": [
    {
     "name": "stdout",
     "output_type": "stream",
     "text": [
      "   netgain\n",
      "0        1\n",
      "1        1\n",
      "2        1\n",
      "3        1\n",
      "4        1\n"
     ]
    }
   ],
   "source": [
    "# Predict on the test data\n",
    "y_pred_test = xgb_model.predict(df_test_eda)\n",
    "y_pred_test = y_pred_test.flatten()\n",
    "\n",
    "# Create a sample submission file\n",
    "sample_submission = pd.DataFrame({'netgain':y_pred_test})\n",
    "\n",
    "# Convert the sample submission file into a csv file\n",
    "sample_submission.to_csv('Submission_test.csv',index=False)\n",
    "\n",
    "print(sample_submission.head())"
   ]
  }
 ],
 "metadata": {
  "kernelspec": {
   "display_name": "Python 3",
   "language": "python",
   "name": "python3"
  },
  "language_info": {
   "codemirror_mode": {
    "name": "ipython",
    "version": 3
   },
   "file_extension": ".py",
   "mimetype": "text/x-python",
   "name": "python",
   "nbconvert_exporter": "python",
   "pygments_lexer": "ipython3",
   "version": "3.7.6"
  },
  "toc": {
   "base_numbering": 1,
   "nav_menu": {},
   "number_sections": true,
   "sideBar": true,
   "skip_h1_title": false,
   "title_cell": "Table of Contents",
   "title_sidebar": "Contents",
   "toc_cell": false,
   "toc_position": {
    "height": "calc(100% - 180px)",
    "left": "10px",
    "top": "150px",
    "width": "303.542px"
   },
   "toc_section_display": true,
   "toc_window_display": true
  }
 },
 "nbformat": 4,
 "nbformat_minor": 4
}
